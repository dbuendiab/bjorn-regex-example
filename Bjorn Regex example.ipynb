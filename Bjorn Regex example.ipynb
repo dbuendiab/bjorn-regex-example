{
 "cells": [
  {
   "cell_type": "code",
   "execution_count": 3,
   "metadata": {},
   "outputs": [
    {
     "name": "stdout",
     "output_type": "stream",
     "text": [
      "01407 YEBRA-CAUDILLO-BEATRIZ ADRI 28/12/2017 02 DOMICILIO\n",
      "01407 ANA\n"
     ]
    }
   ],
   "source": [
    "s = \"\"\"01407 YEBRA-CAUDILLO-BEATRIZ ADRI 28/12/2017 02 DOMICILIO\n",
    "01407 ANA\"\"\"\n",
    "print(s)"
   ]
  },
  {
   "cell_type": "code",
   "execution_count": 4,
   "metadata": {},
   "outputs": [
    {
     "name": "stdout",
     "output_type": "stream",
     "text": [
      "['01407 YEBRA-CAUDILLO-BEATRIZ ADRI 28/12/2017 02 DOMICILIO', '01407 ANA']\n"
     ]
    }
   ],
   "source": [
    "import re\n",
    "patron1 = re.compile(r\"(\\d{5}) (.+?)\\-(.+?)\\-(.+) (\\d{2}/\\d{2}/\\d{4}) (\\d{2}) (.+)\")\n",
    "patron2 = re.compile(r\"\\d{5} (.+)\")\n",
    "\n",
    "lineas = s.split('\\n')\n",
    "print(lineas)"
   ]
  },
  {
   "cell_type": "code",
   "execution_count": 5,
   "metadata": {},
   "outputs": [
    {
     "name": "stdout",
     "output_type": "stream",
     "text": [
      "0 match1\n",
      "1 match2\n"
     ]
    }
   ],
   "source": [
    "for i, linea in enumerate(lineas):\n",
    "    if patron1.match(linea):\n",
    "        print(i, \"match1\")\n",
    "    elif patron2.match(linea):\n",
    "        print(i, \"match2\")\n",
    "    else:\n",
    "        print(i, \"no match\")"
   ]
  },
  {
   "cell_type": "code",
   "execution_count": 8,
   "metadata": {},
   "outputs": [
    {
     "name": "stdout",
     "output_type": "stream",
     "text": [
      "01407\n",
      "YEBRA\n",
      "CAUDILLO\n",
      "BEATRIZ ADRI\n",
      "28/12/2017\n",
      "02\n",
      "DOMICILIO\n",
      "ANA\n"
     ]
    }
   ],
   "source": [
    "for i, linea in enumerate(lineas):\n",
    "    if patron1.match(linea):\n",
    "        for submatch in patron1.match(linea).groups():\n",
    "            print(submatch)\n",
    "    elif patron2.match(linea):\n",
    "        for submatch in patron2.match(linea).groups():\n",
    "            print(submatch)\n",
    "    else:\n",
    "        print(i, linea, \"NO MATCH\")\n",
    "        "
   ]
  },
  {
   "cell_type": "code",
   "execution_count": 11,
   "metadata": {
    "collapsed": true
   },
   "outputs": [],
   "source": [
    "codigo = dato1 = dato2 = dato3 = fecha = numero = domicilio = None"
   ]
  },
  {
   "cell_type": "code",
   "execution_count": 15,
   "metadata": {},
   "outputs": [
    {
     "name": "stdout",
     "output_type": "stream",
     "text": [
      "['01407', 'YEBRA', 'CAUDILLO', 'BEATRIZ ADRIANA', '28/12/2017', '02', 'DOMICILIO']\n"
     ]
    }
   ],
   "source": [
    "datos = None\n",
    "for i, linea in enumerate(lineas):\n",
    "    if patron1.match(linea):\n",
    "        #codigo, dato1, dato2, fecha, numero, domicilio = patron1.match(linea).groups()\n",
    "        datos = patron1.match(linea).groups()\n",
    "\n",
    "    elif patron2.match(linea):\n",
    "        dato3 = patron2.match(linea).groups()[0]\n",
    "        lista = list(datos)\n",
    "        lista[3] += dato3\n",
    "        linea = \" \".join(lista)\n",
    "\n",
    "    else:\n",
    "        print(i, linea, \"NO MATCH\")\n",
    "        \n",
    "print(lista)"
   ]
  },
  {
   "cell_type": "code",
   "execution_count": null,
   "metadata": {
    "collapsed": true
   },
   "outputs": [],
   "source": []
  }
 ],
 "metadata": {
  "kernelspec": {
   "display_name": "Python 3",
   "language": "python",
   "name": "python3"
  },
  "language_info": {
   "codemirror_mode": {
    "name": "ipython",
    "version": 3
   },
   "file_extension": ".py",
   "mimetype": "text/x-python",
   "name": "python",
   "nbconvert_exporter": "python",
   "pygments_lexer": "ipython3",
   "version": "3.5.2"
  }
 },
 "nbformat": 4,
 "nbformat_minor": 2
}
